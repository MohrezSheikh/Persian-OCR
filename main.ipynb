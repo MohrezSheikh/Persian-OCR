{
  "cells": [
    {
      "cell_type": "markdown",
      "metadata": {
        "id": "view-in-github",
        "colab_type": "text"
      },
      "source": [
        "<a href=\"https://colab.research.google.com/github/MohrezSheikh/Persian-OCR-Using-YOLO-v5/blob/master/main.ipynb\" target=\"_parent\"><img src=\"https://colab.research.google.com/assets/colab-badge.svg\" alt=\"Open In Colab\"/></a>"
      ]
    },
    {
      "cell_type": "code",
      "execution_count": 1,
      "metadata": {
        "id": "gU2uU7rYfyX7"
      },
      "outputs": [],
      "source": [
        "from imgaug import augmenters as iaa\n",
        "import cv2\n",
        "import os\n",
        "import torch\n",
        "import pandas as pd\n",
        "from skimage import io, transform\n",
        "import numpy as np\n",
        "import seaborn as sns\n",
        "sns.set()\n",
        "sns.set_style('dark')\n",
        "import matplotlib.pyplot as plt\n",
        "from torch.utils.data import Dataset, DataLoader\n",
        "from torchvision import transforms, utils\n",
        "import torchvision\n",
        "from random import randint\n",
        "import random"
      ]
    },
    {
      "cell_type": "code",
      "execution_count": 2,
      "metadata": {
        "id": "F24Sm6MGf046",
        "colab": {
          "base_uri": "https://localhost:8080/"
        },
        "outputId": "01439e74-4ce1-4938-a01d-4a9a9bba5552"
      },
      "outputs": [
        {
          "output_type": "stream",
          "name": "stdout",
          "text": [
            "Cloning into 'Shotor'...\n",
            "remote: Enumerating objects: 34, done.\u001b[K\n",
            "remote: Counting objects: 100% (15/15), done.\u001b[K\n",
            "remote: Compressing objects: 100% (15/15), done.\u001b[K\n",
            "remote: Total 34 (delta 4), reused 0 (delta 0), pack-reused 19\u001b[K\n",
            "Unpacking objects: 100% (34/34), done.\n"
          ]
        }
      ],
      "source": [
        "!git clone https://github.com/amirabbasasadi/Shotor.git"
      ]
    },
    {
      "cell_type": "code",
      "source": [
        "%cd /content/Shotor\n",
        "!unzip Shotor.zip"
      ],
      "metadata": {
        "id": "YWFMjxvDgeBe"
      },
      "execution_count": null,
      "outputs": []
    },
    {
      "cell_type": "code",
      "source": [
        "plet = '/content/Shotor_Images'\n",
        "pcsv = '/content/Shotor/Shotor_Words.csv'"
      ],
      "metadata": {
        "id": "xF1-2YgOiWwd"
      },
      "execution_count": 4,
      "outputs": []
    },
    {
      "cell_type": "code",
      "source": [
        "img_splits = 20\n",
        "word_max_len = 15"
      ],
      "metadata": {
        "id": "iW7VMfbZDvka"
      },
      "execution_count": 206,
      "outputs": []
    },
    {
      "cell_type": "code",
      "source": [
        "# word_frame = pd.read_csv(pcsv)\n",
        "\n",
        "# n = 100\n",
        "# img_name = word_frame.iloc[n, 0]\n",
        "# word = word_frame.iloc[n, 1:]\n",
        "# word = np.asarray(word)\n",
        "# # landmarks = landmarks.astype('float').reshape(-1, 2)\n",
        "\n",
        "# print('Image name: {}'.format(img_name))\n",
        "# print('word shape: {}'.format(word.shape))\n",
        "# print('word: {}'.format(word[:4]))"
      ],
      "metadata": {
        "colab": {
          "base_uri": "https://localhost:8080/"
        },
        "id": "_VR-UBfLyGCx",
        "outputId": "272de326-ee05-4ceb-d515-2140fcca3d9a"
      },
      "execution_count": 164,
      "outputs": [
        {
          "output_type": "stream",
          "name": "stdout",
          "text": [
            "Image name: 100.tif\n",
            "word shape: (1,)\n",
            "word: ['راه']\n"
          ]
        }
      ]
    },
    {
      "cell_type": "code",
      "source": [
        "# def show_word(image, word):\n",
        "#     \"\"\"Show image with landmarks\"\"\"\n",
        "#     plt.imshow(image)\n",
        "#     plt.scatter(0, 1)\n",
        "#     plt.pause(0.001)  # pause a bit so that plots are updated\n",
        "\n",
        "# plt.figure()\n",
        "# show_word(io.imread(os.path.join('/content/Shotor/Shotor_Images', img_name)),\n",
        "#                word)\n",
        "# plt.show()"
      ],
      "metadata": {
        "colab": {
          "base_uri": "https://localhost:8080/",
          "height": 220
        },
        "id": "lc082qBg1rEE",
        "outputId": "67209657-ee43-4067-bdd0-58d5a8aaabcf"
      },
      "execution_count": 165,
      "outputs": [
        {
          "output_type": "display_data",
          "data": {
            "text/plain": [
              "<Figure size 432x288 with 1 Axes>"
            ],
            "image/png": "[encoded data removed]"
          },
          "metadata": {
            "needs_background": "light"
          }
        }
      ]
    },
    {
      "cell_type": "code",
      "source": [
        "class FaceLandmarksDataset(Dataset):\n",
        "    \"\"\"Face Landmarks dataset.\"\"\"\n",
        "\n",
        "    def __init__(self, csv_file, root_dir, transform=None):\n",
        "        \"\"\"\n",
        "        Args:\n",
        "            csv_file (string): Path to the csv file with annotations.\n",
        "            root_dir (string): Directory with all the images.\n",
        "            transform (callable, optional): Optional transform to be applied\n",
        "                on a sample.\n",
        "        \"\"\"\n",
        "        self.word_frame = pd.read_csv(csv_file)\n",
        "        self.root_dir = root_dir\n",
        "        self.transform = transform\n",
        "\n",
        "    def __len__(self):\n",
        "        return len(self.word_frame)\n",
        "\n",
        "    def __getitem__(self, idx):\n",
        "        if torch.is_tensor(idx):\n",
        "            idx = idx.tolist()\n",
        "\n",
        "        img_name = os.path.join(self.root_dir,\n",
        "                                self.word_frame.iloc[idx, 0])\n",
        "        image = io.imread(img_name)\n",
        "        word = self.word_frame.iloc[idx, 1:]\n",
        "        word = np.array([word])\n",
        "        # landmarks = landmarks.astype('float').reshape(-1, 2)\n",
        "        sample = {'image': image, 'word': word}\n",
        "\n",
        "        if self.transform:\n",
        "            sample = self.transform(sample)\n",
        "\n",
        "        return sample"
      ],
      "metadata": {
        "id": "o0oeCZpc5jHf"
      },
      "execution_count": 188,
      "outputs": []
    },
    {
      "cell_type": "code",
      "source": [
        "face_dataset = FaceLandmarksDataset(csv_file=pcsv,\n",
        "                                    root_dir='/content/Shotor/Shotor_Images')\n",
        "\n",
        "fig = plt.figure()\n",
        "\n",
        "for i in range(len(face_dataset)):\n",
        "    sample = face_dataset[i]\n",
        "\n",
        "    print(i, sample['image'].shape, sample['word'].shape)\n",
        "\n",
        "    ax = plt.subplot(1, 4, i + 1)\n",
        "    plt.tight_layout()\n",
        "    ax.set_title('Sample #{}'.format(i))\n",
        "    ax.axis('off')\n",
        "    show_word(**sample)\n",
        "\n",
        "    if i == 3:\n",
        "        plt.show()\n",
        "        break"
      ],
      "metadata": {
        "colab": {
          "base_uri": "https://localhost:8080/",
          "height": 357
        },
        "id": "kZNKbo3N5mpJ",
        "outputId": "546a1e49-8b29-43f0-b53f-9c559ee42768"
      },
      "execution_count": 189,
      "outputs": [
        {
          "output_type": "stream",
          "name": "stdout",
          "text": [
            "0 (50, 100) (1, 1)\n"
          ]
        },
        {
          "output_type": "display_data",
          "data": {
            "text/plain": [
              "<Figure size 432x288 with 1 Axes>"
            ],
            "image/png": "[encoded data removed]"
          },
          "metadata": {
            "needs_background": "light"
          }
        },
        {
          "output_type": "stream",
          "name": "stdout",
          "text": [
            "1 (50, 100) (1, 1)\n"
          ]
        },
        {
          "output_type": "display_data",
          "data": {
            "text/plain": [
              "<Figure size 432x288 with 1 Axes>"
            ],
            "image/png": "[encoded data removed]"
          },
          "metadata": {
            "needs_background": "light"
          }
        },
        {
          "output_type": "stream",
          "name": "stdout",
          "text": [
            "2 (50, 100) (1, 1)\n"
          ]
        },
        {
          "output_type": "display_data",
          "data": {
            "text/plain": [
              "<Figure size 432x288 with 1 Axes>"
            ],
            "image/png": "[encoded data removed]"
          },
          "metadata": {
            "needs_background": "light"
          }
        },
        {
          "output_type": "stream",
          "name": "stdout",
          "text": [
            "3 (50, 100) (1, 1)\n"
          ]
        },
        {
          "output_type": "display_data",
          "data": {
            "text/plain": [
              "<Figure size 432x288 with 1 Axes>"
            ],
            "image/png": "[encoded data removed]"
          },
          "metadata": {
            "needs_background": "light"
          }
        }
      ]
    },
    {
      "cell_type": "code",
      "source": [
        "from mpl_toolkits.axes_grid1 import ImageGrid\n",
        "fig = plt.figure(figsize=(10., 12.))\n",
        "grid = ImageGrid(fig, 111, nrows_ncols=(4, 5), axes_pad=0.1)\n",
        "\n",
        "images = []\n",
        "for _ in range(20):\n",
        "  images.append(face_dataset[randint(0, len(face_dataset)-1)]['image'])\n",
        "\n",
        "for ax, im in zip(grid, images):\n",
        "    ax.imshow(im)\n",
        "plt.show()"
      ],
      "metadata": {
        "colab": {
          "base_uri": "https://localhost:8080/",
          "height": 287
        },
        "id": "D91L4r_5_vEP",
        "outputId": "be383762-2c63-4ccc-fcbf-89cdb204e6a7"
      },
      "execution_count": 190,
      "outputs": [
        {
          "output_type": "display_data",
          "data": {
            "text/plain": [
              "<Figure size 720x864 with 40 Axes>"
            ],
            "image/png": "[encoded data removed]"
          },
          "metadata": {
            "needs_background": "light"
          }
        }
      ]
    },
    {
      "cell_type": "code",
      "source": [
        "# define all persian alphabets\n",
        "pchars = \"آ ا ب پ ت ث ج چ ح خ د ذ ر ز ژ س ش ص ض ط ظ ع غ ف ق ک گ ل م ن و ه ی ئ\"\n",
        "pchars = ['-',' ', 'S', 'E'] + pchars.split(' ')\n",
        "letter_to_index = {}\n",
        "for i in range(len(pchars)):\n",
        "  letter_to_index[pchars[i]] = i\n",
        "enc_dim = len(pchars)"
      ],
      "metadata": {
        "id": "Dy6DcpQ-ifOM"
      },
      "execution_count": 191,
      "outputs": []
    },
    {
      "cell_type": "code",
      "source": [
        "letter_to_index"
      ],
      "metadata": {
        "colab": {
          "base_uri": "https://localhost:8080/"
        },
        "id": "a58_5jsWihMQ",
        "outputId": "c2530b2e-f093-4448-e9cd-1060fa61b380"
      },
      "execution_count": 192,
      "outputs": [
        {
          "output_type": "execute_result",
          "data": {
            "text/plain": [
              "{' ': 1,\n",
              " '-': 0,\n",
              " 'E': 3,\n",
              " 'S': 2,\n",
              " 'آ': 4,\n",
              " 'ئ': 37,\n",
              " 'ا': 5,\n",
              " 'ب': 6,\n",
              " 'ت': 8,\n",
              " 'ث': 9,\n",
              " 'ج': 10,\n",
              " 'ح': 12,\n",
              " 'خ': 13,\n",
              " 'د': 14,\n",
              " 'ذ': 15,\n",
              " 'ر': 16,\n",
              " 'ز': 17,\n",
              " 'س': 19,\n",
              " 'ش': 20,\n",
              " 'ص': 21,\n",
              " 'ض': 22,\n",
              " 'ط': 23,\n",
              " 'ظ': 24,\n",
              " 'ع': 25,\n",
              " 'غ': 26,\n",
              " 'ف': 27,\n",
              " 'ق': 28,\n",
              " 'ل': 31,\n",
              " 'م': 32,\n",
              " 'ن': 33,\n",
              " 'ه': 35,\n",
              " 'و': 34,\n",
              " 'پ': 7,\n",
              " 'چ': 11,\n",
              " 'ژ': 18,\n",
              " 'ک': 29,\n",
              " 'گ': 30,\n",
              " 'ی': 36}"
            ]
          },
          "metadata": {},
          "execution_count": 192
        }
      ]
    },
    {
      "cell_type": "code",
      "source": [
        "class ToTensor(object):\n",
        "    \"\"\"Convert ndarrays in sample to Tensors.\"\"\"\n",
        "    def __call__(self, sample):\n",
        "        image, word = sample['image'], sample['word']\n",
        "        image = image.reshape(-1, 50, 100)\n",
        "        if (len(word) > word_max_len):\n",
        "          word = word[:word_max_len]\n",
        "        word = word + 'E'\n",
        "        original_word = [[letter_to_index[c]] for c in word]\n",
        "        return {'image': torch.from_numpy(image).double(),\n",
        "                'word' : torch.LongTensor(original_word)}"
      ],
      "metadata": {
        "id": "4hWT17-1il7h"
      },
      "execution_count": 193,
      "outputs": []
    },
    {
      "cell_type": "code",
      "source": [
        "class ImageAug(object):\n",
        "    \"\"\"Apply Image Augmentation on style and output\"\"\"\n",
        "\n",
        "    def __call__(self, sample):\n",
        "        image, word = sample['image'], sample['word']\n",
        "        aug = iaa.SomeOf((0, 5), [\n",
        "            iaa.Affine(scale={\"x\": (0.80, 1.20), \"y\": (0.80, 1.20)}),\n",
        "            iaa.Affine(translate_percent={\"x\": (-0.2, 0.2), \"y\": (-0.2, 0.2)}),\n",
        "            iaa.Add((-30, 30)),\n",
        "            iaa.Multiply((0.80, 1.20)),\n",
        "            iaa.GaussianBlur(sigma=(0, 0.2))\n",
        "        ])\n",
        "        image = aug(images=image)\n",
        "        return {'image': image,\n",
        "                'word': word}"
      ],
      "metadata": {
        "id": "_JTMRcA5ipZM"
      },
      "execution_count": 194,
      "outputs": []
    },
    {
      "cell_type": "code",
      "source": [
        "transformed_dataset = FaceLandmarksDataset(pcsv, '/content/Shotor/Shotor_Images',\n",
        "                                 transform=transforms.Compose([ImageAug(), ToTensor()]))\n",
        "\n",
        "dataloader = DataLoader(transformed_dataset, batch_size=1, shuffle=True)"
      ],
      "metadata": {
        "id": "ddkRLb3yisQN"
      },
      "execution_count": 204,
      "outputs": []
    },
    {
      "cell_type": "code",
      "source": [
        "#clone YOLOv5 and \n",
        "!git clone https://github.com/ultralytics/yolov5  # clone repo\n",
        "%cd yolov5\n",
        "%pip install -qr requirements.txt # install dependencies\n",
        "%pip install -q roboflow\n",
        "\n",
        "import torch\n",
        "import os\n",
        "from IPython.display import Image, clear_output  # to display images\n",
        "\n",
        "print(f\"Setup complete. Using torch {torch.__version__} ({torch.cuda.get_device_properties(0).name if torch.cuda.is_available() else 'CPU'})\")"
      ],
      "metadata": {
        "colab": {
          "base_uri": "https://localhost:8080/"
        },
        "id": "VyvLGFAEit1Q",
        "outputId": "8878e889-7e31-4c8a-a5f6-7fa27df40348"
      },
      "execution_count": 13,
      "outputs": [
        {
          "output_type": "stream",
          "name": "stdout",
          "text": [
            "Cloning into 'yolov5'...\n",
            "remote: Enumerating objects: 12805, done.\u001b[K\n",
            "remote: Counting objects: 100% (86/86), done.\u001b[K\n",
            "remote: Compressing objects: 100% (46/46), done.\u001b[K\n",
            "remote: Total 12805 (delta 48), reused 70 (delta 40), pack-reused 12719\u001b[K\n",
            "Receiving objects: 100% (12805/12805), 12.36 MiB | 24.24 MiB/s, done.\n",
            "Resolving deltas: 100% (8805/8805), done.\n",
            "/content/Shotor/yolov5\n",
            "\u001b[K     |████████████████████████████████| 596 kB 5.1 MB/s \n",
            "\u001b[K     |████████████████████████████████| 178 kB 7.6 MB/s \n",
            "\u001b[K     |████████████████████████████████| 21.6 MB 7.4 MB/s \n",
            "\u001b[K     |████████████████████████████████| 4.3 MB 50.3 MB/s \n",
            "\u001b[K     |████████████████████████████████| 145 kB 74.3 MB/s \n",
            "\u001b[K     |████████████████████████████████| 54 kB 3.5 MB/s \n",
            "\u001b[K     |████████████████████████████████| 138 kB 74.1 MB/s \n",
            "\u001b[K     |████████████████████████████████| 67 kB 7.4 MB/s \n",
            "\u001b[K     |████████████████████████████████| 1.1 MB 63.0 MB/s \n",
            "\u001b[K     |████████████████████████████████| 62 kB 1.8 MB/s \n",
            "\u001b[?25h  Building wheel for wget (setup.py) ... \u001b[?25l\u001b[?25hdone\n",
            "\u001b[31mERROR: pip's dependency resolver does not currently take into account all the packages that are installed. This behaviour is the source of the following dependency conflicts.\n",
            "google-colab 1.0.0 requires requests~=2.23.0, but you have requests 2.28.1 which is incompatible.\n",
            "datascience 0.10.6 requires folium==0.2.1, but you have folium 0.8.3 which is incompatible.\n",
            "albumentations 0.1.12 requires imgaug<0.2.7,>=0.2.5, but you have imgaug 0.2.9 which is incompatible.\u001b[0m\n",
            "Setup complete. Using torch 1.12.0+cu113 (Tesla T4)\n"
          ]
        }
      ]
    },
    {
      "cell_type": "code",
      "source": [
        "!python train.py --img 416 --batch 16 --epochs 150 --data /content/Shotor/char.yml --weights yolov5s.pt --cache"
      ],
      "metadata": {
        "id": "IQT6MtKHi3Zk"
      },
      "execution_count": null,
      "outputs": []
    },
    {
      "cell_type": "code",
      "source": [
        ""
      ],
      "metadata": {
        "id": "iyigc9GcjPHI"
      },
      "execution_count": null,
      "outputs": []
    }
  ],
  "metadata": {
    "accelerator": "GPU",
    "colab": {
      "name": "Final.ipynb",
      "provenance": [],
      "authorship_tag": "ABX9TyPkHRBgtyXk6ttHAqAJjUTc",
      "include_colab_link": true
    },
    "gpuClass": "standard",
    "kernelspec": {
      "display_name": "Python 3",
      "name": "python3"
    },
    "language_info": {
      "name": "python"
    }
  },
  "nbformat": 4,
  "nbformat_minor": 0
}